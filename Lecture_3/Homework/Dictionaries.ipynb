{
 "cells": [
  {
   "cell_type": "code",
   "execution_count": 3,
   "metadata": {},
   "outputs": [
    {
     "data": {
      "text/plain": [
       "dict_keys(['dairy', 'fruits'])"
      ]
     },
     "execution_count": 3,
     "metadata": {},
     "output_type": "execute_result"
    }
   ],
   "source": [
    "market = {\"dairy\":[\"yogurt\",\"cheese\"],\"fruits\": [\"banana\",\"apple\", \"orange\", \"lemon\", \"apple\", \"banana\",\"banana\"]}\n",
    "market\n",
    "market.keys()"
   ]
  },
  {
   "cell_type": "code",
   "execution_count": 4,
   "metadata": {},
   "outputs": [
    {
     "data": {
      "text/plain": [
       "{'dairy': ['yogurt', 'cheese'],\n",
       " 'fruits': ['banana', 'apple', 'orange', 'lemon', 'apple', 'banana', 'banana'],\n",
       " 'candies': ['mars', 'kinder', 'twix']}"
      ]
     },
     "execution_count": 4,
     "metadata": {},
     "output_type": "execute_result"
    }
   ],
   "source": [
    "market[\"candies\"] = [\"mars\",\"kinder\", \"twix\"]\n",
    "market"
   ]
  },
  {
   "cell_type": "code",
   "execution_count": 5,
   "metadata": {},
   "outputs": [],
   "source": [
    "market[\"fruits\"].sort()"
   ]
  },
  {
   "cell_type": "code",
   "execution_count": 6,
   "metadata": {},
   "outputs": [
    {
     "data": {
      "text/plain": [
       "{'dairy': ['yogurt', 'cheese'],\n",
       " 'fruits': ['apple', 'apple', 'banana', 'banana', 'banana', 'lemon', 'orange'],\n",
       " 'candies': ['mars', 'kinder', 'twix']}"
      ]
     },
     "execution_count": 6,
     "metadata": {},
     "output_type": "execute_result"
    }
   ],
   "source": [
    "market"
   ]
  },
  {
   "cell_type": "code",
   "execution_count": 8,
   "metadata": {},
   "outputs": [
    {
     "data": {
      "text/plain": [
       "{'dairy': ['yogurt', 'cheese'],\n",
       " 'fruits': ['banana', 'orange', 'lemon', 'apple'],\n",
       " 'candies': ['mars', 'kinder', 'twix']}"
      ]
     },
     "execution_count": 8,
     "metadata": {},
     "output_type": "execute_result"
    }
   ],
   "source": [
    "market1=set(market[\"fruits\"])\n",
    "market[\"fruits\"]=list(market1)\n",
    "market\n",
    "\n"
   ]
  },
  {
   "cell_type": "code",
   "execution_count": null,
   "metadata": {},
   "outputs": [],
   "source": []
  }
 ],
 "metadata": {
  "kernelspec": {
   "display_name": "Python 3",
   "language": "python",
   "name": "python3"
  },
  "language_info": {
   "codemirror_mode": {
    "name": "ipython",
    "version": 3
   },
   "file_extension": ".py",
   "mimetype": "text/x-python",
   "name": "python",
   "nbconvert_exporter": "python",
   "pygments_lexer": "ipython3",
   "version": "3.7.3"
  }
 },
 "nbformat": 4,
 "nbformat_minor": 2
}
