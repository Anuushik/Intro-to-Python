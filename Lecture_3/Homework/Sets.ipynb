{
 "cells": [
  {
   "cell_type": "code",
   "execution_count": 4,
   "metadata": {},
   "outputs": [
    {
     "data": {
      "text/plain": [
       "({-3, -5, 8, 'Chocolate', 'Cookies', False, True},\n",
       " {10, 14, 8, 'Chocolate', False, 'Jelly', 'Milk', True},\n",
       " ['Cookies', 'Chocolate', 8, True, -3, -5, 'Chocolate', 8, False, 8],\n",
       " [8, True, 10, 14, 'Chocolate', 'Milk', 'Jelly', True, False, True])"
      ]
     },
     "execution_count": 4,
     "metadata": {},
     "output_type": "execute_result"
    }
   ],
   "source": [
    "a1 = [\"Cookies\",\"Chocolate\",8, True, -3, -5, \"Chocolate\", 8, False, 8]\n",
    "b1 = [8, True, 10, 14,\"Chocolate\", \"Milk\", \"Jelly\", True, False, True]\n",
    "set_a =set(a1) \n",
    "set_b = set(b1)\n",
    "set_a,set_b, a1, b1"
   ]
  },
  {
   "cell_type": "code",
   "execution_count": 5,
   "metadata": {},
   "outputs": [
    {
     "data": {
      "text/plain": [
       "{-3, -5, 10, 14, 8, 'Chocolate', 'Cookies', False, 'Jelly', 'Milk', True}"
      ]
     },
     "execution_count": 5,
     "metadata": {},
     "output_type": "execute_result"
    }
   ],
   "source": [
    "union_ab = set_a.union(set_b)\n",
    "union_ab"
   ]
  },
  {
   "cell_type": "code",
   "execution_count": 6,
   "metadata": {},
   "outputs": [
    {
     "data": {
      "text/plain": [
       "{8, 'Chocolate', False, True}"
      ]
     },
     "execution_count": 6,
     "metadata": {},
     "output_type": "execute_result"
    }
   ],
   "source": [
    "intersection_ab = set_a.intersection(set_b)\n",
    "intersection_ab"
   ]
  },
  {
   "cell_type": "code",
   "execution_count": 13,
   "metadata": {},
   "outputs": [
    {
     "data": {
      "text/plain": [
       "{-3,\n",
       " -5,\n",
       " 10,\n",
       " 14,\n",
       " 8,\n",
       " 'Chocolate',\n",
       " 'Cookies',\n",
       " False,\n",
       " 'Jelly',\n",
       " 'Milk',\n",
       " True,\n",
       " 'kitkat',\n",
       " 'oreo'}"
      ]
     },
     "execution_count": 13,
     "metadata": {},
     "output_type": "execute_result"
    }
   ],
   "source": [
    "union_ab.add(\"kitkat\")\n",
    "union_ab.add(\"oreo\")\n",
    "\n",
    "union_ab"
   ]
  },
  {
   "cell_type": "code",
   "execution_count": 15,
   "metadata": {},
   "outputs": [
    {
     "data": {
      "text/plain": [
       "{-3,\n",
       " -5,\n",
       " 10,\n",
       " 14,\n",
       " 8,\n",
       " 'Chocolate',\n",
       " 'Cookies',\n",
       " False,\n",
       " 'Jelly',\n",
       " 'Milk',\n",
       " True,\n",
       " 'kitkat',\n",
       " 'oreo'}"
      ]
     },
     "execution_count": 15,
     "metadata": {},
     "output_type": "execute_result"
    }
   ],
   "source": [
    "new_set  = union_ab | intersection_ab\n",
    "new_set "
   ]
  },
  {
   "cell_type": "code",
   "execution_count": 18,
   "metadata": {},
   "outputs": [
    {
     "data": {
      "text/plain": [
       "True"
      ]
     },
     "execution_count": 18,
     "metadata": {},
     "output_type": "execute_result"
    }
   ],
   "source": [
    "\"Chocolate\" in new_set "
   ]
  },
  {
   "cell_type": "code",
   "execution_count": 20,
   "metadata": {},
   "outputs": [
    {
     "data": {
      "text/plain": [
       "{-3,\n",
       " -5,\n",
       " 10,\n",
       " 14,\n",
       " 8,\n",
       " 'Chocolate',\n",
       " 'Cookies',\n",
       " False,\n",
       " 'Jelly',\n",
       " 'Milk',\n",
       " True,\n",
       " 'kitkat'}"
      ]
     },
     "execution_count": 20,
     "metadata": {},
     "output_type": "execute_result"
    }
   ],
   "source": [
    "new_set.remove(\"oreo\")\n",
    "new_set"
   ]
  },
  {
   "cell_type": "code",
   "execution_count": null,
   "metadata": {},
   "outputs": [],
   "source": []
  }
 ],
 "metadata": {
  "kernelspec": {
   "display_name": "Python 3",
   "language": "python",
   "name": "python3"
  },
  "language_info": {
   "codemirror_mode": {
    "name": "ipython",
    "version": 3
   },
   "file_extension": ".py",
   "mimetype": "text/x-python",
   "name": "python",
   "nbconvert_exporter": "python",
   "pygments_lexer": "ipython3",
   "version": "3.7.3"
  }
 },
 "nbformat": 4,
 "nbformat_minor": 2
}
