{
 "cells": [
  {
   "cell_type": "code",
   "execution_count": 18,
   "metadata": {},
   "outputs": [
    {
     "name": "stdout",
     "output_type": "stream",
     "text": [
      "The entry is:  a\n",
      "Error! unsupported operand type(s) for /: 'int' and 'str'\n",
      "The entry is:  0\n",
      "Error! division by zero\n",
      "The entry is:  2\n",
      "0.5\n"
     ]
    }
   ],
   "source": [
    "args = [\"a\",0,2]\n",
    "for x in args:\n",
    "    print (\"The entry is: \", x)\n",
    "    try: \n",
    "        print(1/x)\n",
    "    except Exception as e:\n",
    "        print(\"Error!\", e) "
   ]
  },
  {
   "cell_type": "code",
   "execution_count": null,
   "metadata": {},
   "outputs": [],
   "source": []
  }
 ],
 "metadata": {
  "kernelspec": {
   "display_name": "Python 3",
   "language": "python",
   "name": "python3"
  },
  "language_info": {
   "codemirror_mode": {
    "name": "ipython",
    "version": 3
   },
   "file_extension": ".py",
   "mimetype": "text/x-python",
   "name": "python",
   "nbconvert_exporter": "python",
   "pygments_lexer": "ipython3",
   "version": "3.7.3"
  }
 },
 "nbformat": 4,
 "nbformat_minor": 2
}
